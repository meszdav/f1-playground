{
 "cells": [
  {
   "cell_type": "code",
   "execution_count": 1,
   "id": "4735170f",
   "metadata": {},
   "outputs": [],
   "source": [
    "# set the plotly renderer to svg\n",
    "import plotly.io as pio\n",
    "pio.renderers.default = \"svg\""
   ]
  },
  {
   "cell_type": "markdown",
   "metadata": {},
   "source": [
    "# 🤟 LLM-s for F1 Telemetry Data 🏎️"
   ]
  },
  {
   "cell_type": "markdown",
   "metadata": {},
   "source": [
    "Disclaimer:\n",
    "> This is my first LLM project, where I wanted to learn and explore the basics of LLMs. My strategy to learn is to build > small projects which can showcase the features of the newest and hottest tools. "
   ]
  },
  {
   "cell_type": "markdown",
   "metadata": {},
   "source": [
    "## Project Idea\n",
    "\n",
    "The idea was fairly simple: I want to build a dashboard where the user can use natural language to get the telemetry data from two racers from a given event. The telemetry data is a time series data which is showing the speed, throttle, brake of the car. \n",
    "One of my most important criteria, that I want to use real data, and not some data generated or halucinated by the LLM. For this reason my strategy is to develop some custom tools which can be used to collect the publicly available telemetry data.\n",
    "\n",
    "You can might ask the question, how is this better than just using some conventional dropdowns or radio buttons to filter the data. This is a good question, which I asked myself too 😀 Considering that the user uses natural language the definition of the prompt can be implicit like give me the `first` and the `fourth` best racer from a grand prix. The LLM can use some tools to find these drivers and then fetch the results. Or you can describe an event just by a country or city without specifying the event exactly. This gives the user much more flexibility and make the dashboard much more natural than just using dozens of buttons and dropdowns. But anyway the goal of the project to learn something new. "
   ]
  },
  {
   "cell_type": "markdown",
   "metadata": {},
   "source": [
    "## Telemetry data\n",
    "\n",
    "The first thing was to get telemetry data. For this I used the fastf1 python library, which makes it simple to download telemetry data. First thing is to load a session, where only the year, event name and the session type need to be specified. \n",
    "\n",
    "```python\n",
    "\n",
    "session = fastf1.get_session(2022, \"Monaco Grand Prix\", \"Qualifying\")\n",
    "session.load()\n",
    "```"
   ]
  },
  {
   "cell_type": "code",
   "execution_count": 2,
   "id": "b9c78bea",
   "metadata": {},
   "outputs": [],
   "source": [
    "import fastf1\n",
    "from fastf1 import logger\n",
    "\n",
    "logger.set_log_level(\"ERROR\")\n",
    "\n",
    "session = fastf1.get_session(2022, \"Monaco Grand Prix\", \"Qualifying\")\n",
    "session.load()"
   ]
  },
  {
   "cell_type": "markdown",
   "id": "2231291e",
   "metadata": {},
   "source": [
    "After loading the session we can use all available data like lap times, results, telemetry data, etc.\n",
    "\n",
    "The session object than can be used to retrieve telemetry data for specific drivers and laps.\n",
    "\n",
    "```python\n",
    "\n",
    "fastest_lap = session.laps.pick_drivers(\"VER\").pick_fastest()\n",
    "# add distance to the data\n",
    "telemetry_data = fastest_lap.get_car_data().add_distance()\n",
    "telemetry_data.head(2)\n",
    "```\n"
   ]
  },
  {
   "cell_type": "code",
   "execution_count": 3,
   "id": "63e188e6",
   "metadata": {},
   "outputs": [
    {
     "data": {
      "text/html": [
       "<div>\n",
       "<style scoped>\n",
       "    .dataframe tbody tr th:only-of-type {\n",
       "        vertical-align: middle;\n",
       "    }\n",
       "\n",
       "    .dataframe tbody tr th {\n",
       "        vertical-align: top;\n",
       "    }\n",
       "\n",
       "    .dataframe thead th {\n",
       "        text-align: right;\n",
       "    }\n",
       "</style>\n",
       "<table border=\"1\" class=\"dataframe\">\n",
       "  <thead>\n",
       "    <tr style=\"text-align: right;\">\n",
       "      <th></th>\n",
       "      <th>Date</th>\n",
       "      <th>RPM</th>\n",
       "      <th>Speed</th>\n",
       "      <th>nGear</th>\n",
       "      <th>Throttle</th>\n",
       "      <th>Brake</th>\n",
       "      <th>DRS</th>\n",
       "      <th>Source</th>\n",
       "      <th>Time</th>\n",
       "      <th>SessionTime</th>\n",
       "      <th>Distance</th>\n",
       "    </tr>\n",
       "  </thead>\n",
       "  <tbody>\n",
       "    <tr>\n",
       "      <th>0</th>\n",
       "      <td>2022-05-28 14:55:07.386</td>\n",
       "      <td>11096.0</td>\n",
       "      <td>279.0</td>\n",
       "      <td>7</td>\n",
       "      <td>100.0</td>\n",
       "      <td>False</td>\n",
       "      <td>12</td>\n",
       "      <td>car</td>\n",
       "      <td>0 days 00:00:00.085000</td>\n",
       "      <td>0 days 01:10:06.992000</td>\n",
       "      <td>6.587500</td>\n",
       "    </tr>\n",
       "    <tr>\n",
       "      <th>1</th>\n",
       "      <td>2022-05-28 14:55:07.586</td>\n",
       "      <td>11190.0</td>\n",
       "      <td>282.0</td>\n",
       "      <td>7</td>\n",
       "      <td>100.0</td>\n",
       "      <td>False</td>\n",
       "      <td>12</td>\n",
       "      <td>car</td>\n",
       "      <td>0 days 00:00:00.285000</td>\n",
       "      <td>0 days 01:10:07.192000</td>\n",
       "      <td>22.254167</td>\n",
       "    </tr>\n",
       "  </tbody>\n",
       "</table>\n",
       "</div>"
      ],
      "text/plain": [
       "                     Date      RPM  Speed  nGear  Throttle  Brake  DRS Source  \\\n",
       "0 2022-05-28 14:55:07.386  11096.0  279.0      7     100.0  False   12    car   \n",
       "1 2022-05-28 14:55:07.586  11190.0  282.0      7     100.0  False   12    car   \n",
       "\n",
       "                    Time            SessionTime   Distance  \n",
       "0 0 days 00:00:00.085000 0 days 01:10:06.992000   6.587500  \n",
       "1 0 days 00:00:00.285000 0 days 01:10:07.192000  22.254167  "
      ]
     },
     "execution_count": 3,
     "metadata": {},
     "output_type": "execute_result"
    }
   ],
   "source": [
    "fastest_lap = session.laps.pick_drivers(\"VER\").pick_fastest()\n",
    "# add distance to the data\n",
    "telemetry_data = fastest_lap.get_car_data().add_distance()\n",
    "telemetry_data.head(2)"
   ]
  },
  {
   "cell_type": "markdown",
   "id": "349371a7",
   "metadata": {},
   "source": [
    "This gives a pandas dataframe whith all the required information to plot the telemetry data."
   ]
  },
  {
   "cell_type": "markdown",
   "id": "a542d986",
   "metadata": {},
   "source": [
    "## Colors\n",
    "\n",
    "Another not that crucial but for me important detail was to be able to plot the data with the colors of the corresponding team color of the given driver. \n",
    "This information can be found with the fastf1 library too.\n",
    "\n",
    "```python\n",
    "\n",
    "driver = session.get_driver(\"VER\")\n",
    "team = driver[\"TeamName\"]\n",
    "color = fastf1.plotting.get_team_color(team, session=session)\n",
    "```"
   ]
  },
  {
   "cell_type": "code",
   "execution_count": 4,
   "id": "0531f078",
   "metadata": {},
   "outputs": [
    {
     "data": {
      "text/html": [
       "<div style=\"width: 50px; height: 50px; background-color: #0600ef;\"></div>"
      ],
      "text/plain": [
       "<IPython.core.display.HTML object>"
      ]
     },
     "metadata": {},
     "output_type": "display_data"
    }
   ],
   "source": [
    "from IPython.display import HTML\n",
    "\n",
    "import fastf1.plotting\n",
    "\n",
    "driver = session.get_driver(\"VER\")\n",
    "team = driver[\"TeamName\"]\n",
    "color = fastf1.plotting.get_team_color(team, session=session)\n",
    "\n",
    "# Display the color as a square\n",
    "html_code = f'<div style=\"width: 50px; height: 50px; background-color: {color};\"></div>'\n",
    "display(HTML(html_code))\n"
   ]
  },
  {
   "cell_type": "markdown",
   "id": "aba5c906",
   "metadata": {},
   "source": [
    "Another detail is that the color in case of comparing a driver with another driver from the same team. In this case one of the drivers color will be inverted. This can be achived by the following code:\n",
    "\n",
    "```python\n",
    "def _invert_hex_color(hex_color: str) -> str:\n",
    "    hex_color = hex_color.lstrip(\"#\")\n",
    "    inverted = \"\".join(f\"{255 - int(hex_color[i:i+2], 16):02X}\" for i in (0, 2, 4))\n",
    "    return f\"#{inverted}\"\n",
    "```"
   ]
  },
  {
   "cell_type": "code",
   "execution_count": 5,
   "id": "b269c941",
   "metadata": {},
   "outputs": [],
   "source": [
    "def _invert_hex_color(hex_color: str) -> str:\n",
    "    hex_color = hex_color.lstrip(\"#\")\n",
    "    inverted = \"\".join(f\"{255 - int(hex_color[i:i+2], 16):02X}\" for i in (0, 2, 4))\n",
    "    return f\"#{inverted}\""
   ]
  },
  {
   "cell_type": "code",
   "execution_count": 6,
   "id": "3bfa13d6",
   "metadata": {},
   "outputs": [
    {
     "data": {
      "text/html": [
       "\n",
       "<div style=\"display: flex; align-items: center;\">\n",
       "    <div style=\"width: 50px; height: 50px; background-color: #0600ef;\"></div>\n",
       "    <div style=\"margin: 0 10px;\">&#8594;</div>\n",
       "    <div style=\"width: 50px; height: 50px; background-color: #F9FF10;\"></div>\n",
       "</div>\n"
      ],
      "text/plain": [
       "<IPython.core.display.HTML object>"
      ]
     },
     "metadata": {},
     "output_type": "display_data"
    }
   ],
   "source": [
    "# show both colors\n",
    "html_code = f\"\"\"\n",
    "<div style=\"display: flex; align-items: center;\">\n",
    "    <div style=\"width: 50px; height: 50px; background-color: {color};\"></div>\n",
    "    <div style=\"margin: 0 10px;\">&#8594;</div>\n",
    "    <div style=\"width: 50px; height: 50px; background-color: {_invert_hex_color(color)};\"></div>\n",
    "</div>\n",
    "\"\"\"\n",
    "display(HTML(html_code))"
   ]
  },
  {
   "cell_type": "markdown",
   "id": "2d95a6aa",
   "metadata": {},
   "source": [
    "Putting everything together the telemetry will be plotted like this:"
   ]
  },
  {
   "cell_type": "code",
   "execution_count": 7,
   "id": "43e1f340",
   "metadata": {},
   "outputs": [
    {
     "data": {
      "image/svg+xml": [
       "<svg class=\"main-svg\" xmlns=\"http://www.w3.org/2000/svg\" xmlns:xlink=\"http://www.w3.org/1999/xlink\" width=\"700\" height=\"800\" style=\"\" viewBox=\"0 0 700 800\"><rect x=\"0\" y=\"0\" width=\"700\" height=\"800\" style=\"fill: rgb(17, 17, 17); fill-opacity: 1;\"/><defs id=\"defs-2511ff\"><g class=\"clips\"><clipPath id=\"clip2511ffxyplot\" class=\"plotclip\"><rect width=\"540\" height=\"198.39999999999998\"/></clipPath><clipPath id=\"clip2511ffx2y2plot\" class=\"plotclip\"><rect width=\"540\" height=\"198.4\"/></clipPath><clipPath id=\"clip2511ffx3y3plot\" class=\"plotclip\"><rect width=\"540\" height=\"198.4\"/></clipPath><clipPath class=\"axesclip\" id=\"clip2511ffx\"><rect x=\"80\" y=\"0\" width=\"540\" height=\"800\"/></clipPath><clipPath class=\"axesclip\" id=\"clip2511ffy\"><rect x=\"0\" y=\"100\" width=\"700\" height=\"198.39999999999998\"/></clipPath><clipPath class=\"axesclip\" id=\"clip2511ffxy\"><rect x=\"80\" y=\"100\" width=\"540\" height=\"198.39999999999998\"/></clipPath><clipPath class=\"axesclip\" id=\"clip2511ffy2\"><rect x=\"0\" y=\"310.79999999999995\" width=\"700\" height=\"198.4\"/></clipPath><clipPath class=\"axesclip\" id=\"clip2511ffxy2\"><rect x=\"80\" y=\"310.79999999999995\" width=\"540\" height=\"198.4\"/></clipPath><clipPath class=\"axesclip\" id=\"clip2511ffy3\"><rect x=\"0\" y=\"521.5999999999999\" width=\"700\" height=\"198.4\"/></clipPath><clipPath class=\"axesclip\" id=\"clip2511ffxy3\"><rect x=\"80\" y=\"521.5999999999999\" width=\"540\" height=\"198.4\"/></clipPath><clipPath class=\"axesclip\" id=\"clip2511ffx2\"><rect x=\"80\" y=\"0\" width=\"540\" height=\"800\"/></clipPath><clipPath class=\"axesclip\" id=\"clip2511ffx2y\"><rect x=\"80\" y=\"100\" width=\"540\" height=\"198.39999999999998\"/></clipPath><clipPath class=\"axesclip\" id=\"clip2511ffx2y2\"><rect x=\"80\" y=\"310.79999999999995\" width=\"540\" height=\"198.4\"/></clipPath><clipPath class=\"axesclip\" id=\"clip2511ffx2y3\"><rect x=\"80\" y=\"521.5999999999999\" width=\"540\" height=\"198.4\"/></clipPath><clipPath class=\"axesclip\" id=\"clip2511ffx3\"><rect x=\"80\" y=\"0\" width=\"540\" height=\"800\"/></clipPath><clipPath class=\"axesclip\" id=\"clip2511ffx3y\"><rect x=\"80\" y=\"100\" width=\"540\" height=\"198.39999999999998\"/></clipPath><clipPath class=\"axesclip\" id=\"clip2511ffx3y2\"><rect x=\"80\" y=\"310.79999999999995\" width=\"540\" height=\"198.4\"/></clipPath><clipPath class=\"axesclip\" id=\"clip2511ffx3y3\"><rect x=\"80\" y=\"521.5999999999999\" width=\"540\" height=\"198.4\"/></clipPath></g><g class=\"gradients\"/><g class=\"patterns\"/></defs><g class=\"bglayer\"/><g class=\"layer-below\"><g class=\"imagelayer\"/><g class=\"shapelayer\"/></g><g class=\"cartesianlayer\"><g class=\"subplot xy\"><g class=\"layer-subplot\"><g class=\"shapelayer\"/><g class=\"imagelayer\"/></g><g class=\"minor-gridlayer\"><g class=\"x\"/><g class=\"y\"/></g><g class=\"gridlayer\"><g class=\"x\"><path class=\"xgrid crisp\" transform=\"translate(161.95,0)\" d=\"M0,100v198.39999999999998\" style=\"stroke: rgb(40, 52, 66); stroke-opacity: 1; stroke-width: 1px;\"/><path class=\"xgrid crisp\" transform=\"translate(245,0)\" d=\"M0,100v198.39999999999998\" style=\"stroke: rgb(40, 52, 66); stroke-opacity: 1; stroke-width: 1px;\"/><path class=\"xgrid crisp\" transform=\"translate(328.05,0)\" d=\"M0,100v198.39999999999998\" style=\"stroke: rgb(40, 52, 66); stroke-opacity: 1; stroke-width: 1px;\"/><path class=\"xgrid crisp\" transform=\"translate(411.09,0)\" d=\"M0,100v198.39999999999998\" style=\"stroke: rgb(40, 52, 66); stroke-opacity: 1; stroke-width: 1px;\"/><path class=\"xgrid crisp\" transform=\"translate(494.14,0)\" d=\"M0,100v198.39999999999998\" style=\"stroke: rgb(40, 52, 66); stroke-opacity: 1; stroke-width: 1px;\"/><path class=\"xgrid crisp\" transform=\"translate(577.19,0)\" d=\"M0,100v198.39999999999998\" style=\"stroke: rgb(40, 52, 66); stroke-opacity: 1; stroke-width: 1px;\"/></g><g class=\"y\"><path class=\"ygrid crisp\" transform=\"translate(0,285.53)\" d=\"M80,0h540\" style=\"stroke: rgb(40, 52, 66); stroke-opacity: 1; stroke-width: 1px;\"/><path class=\"ygrid crisp\" transform=\"translate(0,248.64)\" d=\"M80,0h540\" style=\"stroke: rgb(40, 52, 66); stroke-opacity: 1; stroke-width: 1px;\"/><path class=\"ygrid crisp\" transform=\"translate(0,211.74)\" d=\"M80,0h540\" style=\"stroke: rgb(40, 52, 66); stroke-opacity: 1; stroke-width: 1px;\"/><path class=\"ygrid crisp\" transform=\"translate(0,174.85)\" d=\"M80,0h540\" style=\"stroke: rgb(40, 52, 66); stroke-opacity: 1; stroke-width: 1px;\"/><path class=\"ygrid crisp\" transform=\"translate(0,137.96)\" d=\"M80,0h540\" style=\"stroke: rgb(40, 52, 66); stroke-opacity: 1; stroke-width: 1px;\"/><path class=\"ygrid crisp\" transform=\"translate(0,101.07)\" d=\"M80,0h540\" style=\"stroke: rgb(40, 52, 66); stroke-opacity: 1; stroke-width: 1px;\"/></g></g><g class=\"zerolinelayer\"/><g class=\"layer-between\"><g class=\"shapelayer\"/><g class=\"imagelayer\"/></g><path class=\"xlines-below\"/><path class=\"ylines-below\"/><g class=\"overlines-below\"/><g class=\"xaxislayer-below\"/><g class=\"yaxislayer-below\"/><g class=\"overaxes-below\"/><g class=\"overplot\"><g class=\"xy\" transform=\"translate(80,100)\" clip-path=\"url(#clip2511ffxyplot)\"><g class=\"scatterlayer mlayer\"><g class=\"trace scatter trace242d2b\" style=\"stroke-miterlimit: 2; opacity: 1;\"><g class=\"fills\"/><g class=\"errorbars\"/><g class=\"lines\"><path class=\"js-line\" d=\"M0,16.56L5.23,12.13L7.34,11.4L10.53,9.92L12.66,9.92L16.44,33.53L20.22,71.16L28.18,136.09L29.64,139.04L31.42,143.47L32.41,142.73L33.45,139.78L35.26,131.67L38.1,116.17L39.49,111.01L43.87,94.04L46.27,85.18L49.54,74.85L53.41,67.47L60.41,55.67L62.53,52.72L69.62,43.12L73.71,40.91L76.5,36.48L78.37,35.74L90.42,26.89L92.37,26.89L102.35,20.99L105.67,32.79L111.37,51.24L112.92,67.47L117.58,82.23L121.25,88.87L126.18,102.15L128.85,103.63L130.35,102.89L134.09,97.72L135.66,96.99L137.54,96.99L138.99,106.58L141.72,113.22L143.05,116.17L145.93,117.65L148.13,112.48L152.09,100.68L156.05,85.18L158.17,80.75L159.65,74.85L162.34,68.95L166.72,61.57L168.72,62.31L171.87,89.61L173.82,111.01L178.46,147.9L179.35,151.59L183.01,167.82L183.58,165.61L186.2,158.23L186.91,151.59L189.09,139.04L190.24,130.93L191.8,118.38L193.68,114.69L200.99,181.1L201.78,183.32L203.57,188.48L204.03,186.27L205.98,173.72L206.86,164.13L209.48,147.16L210.37,151.59L212.5,158.97L213.42,161.18L214.01,164.13L214.6,163.39L216.13,161.18L217.79,156.01L219.53,144.95L221.35,131.67L223.33,134.62L225.27,147.16L226.87,151.59L229.12,159.7L230.58,157.49L231.25,156.01L233.44,142.73L235.41,134.62L236.98,118.38L238.02,118.38L240.12,102.15L244.76,83.71L246.18,80.75L248.42,73.38L251.53,66.73L256.45,56.4L259,52.72L262.05,48.29L265.15,45.34L272.07,35.01L276.84,32.06L278.76,30.58L281.16,29.84L285.56,26.15L288.03,25.41L293.03,21.73L296.05,20.99L301.69,15.82L304.81,14.35L308.99,13.61L314.28,10.66L318.54,9.92L323.92,26.89L336.34,143.47L337.09,147.16L342.24,172.25L343.07,175.2L345.17,161.18L346.46,148.64L350.24,122.07L351.31,114.69L360.38,80.02L363.36,73.38L366.88,63.78L370.18,57.14L375.32,51.24L377.03,51.24L380.73,88.13L384.18,96.99L385.41,99.2L386.64,99.2L393.33,82.97L394.78,77.8L400.53,65.26L402.51,63.78L404.98,57.88L407.49,54.19L415.22,49.03L419.26,43.12L424.26,39.43L428.1,68.95L434.87,113.96L436.69,118.38L439.13,125.02L445.9,122.07L448.31,115.43L449.82,101.41L456.98,79.28L458.45,76.33L461.04,74.11L464.02,102.89L470.21,161.18L470.78,165.61L473.4,174.46L474.12,174.46L475.95,168.56L476.55,162.66L480.1,133.14L482.38,146.42L483.14,146.42L484.38,151.59L486.47,158.97L487.1,160.44L489.3,152.33L490.24,147.16L491.57,133.88L493.73,126.5L497.11,102.89L500.1,89.61L505.96,71.9L509.58,61.57L512.47,57.14L514.17,52.72L519.95,43.12L522.24,39.43L526.51,32.79L531.4,26.89L540,18.04\" style=\"vector-effect: none; fill: none; stroke: rgb(6, 0, 239); stroke-opacity: 1; stroke-width: 2px; opacity: 1;\"/></g><g class=\"points\"/><g class=\"text\"/></g><g class=\"trace scatter tracee57878\" style=\"stroke-miterlimit: 2; opacity: 1;\"><g class=\"fills\"/><g class=\"errorbars\"/><g class=\"lines\"><path class=\"js-line\" d=\"M0.56,17.3L2.63,15.82L7.33,13.61L10.49,11.4L15.38,27.63L23.43,112.48L24.94,121.34L28.38,140.52L29.58,142L31.61,141.26L33.93,138.31L37.11,120.6L39.7,107.32L40.85,107.32L43.11,93.3L49.63,72.64L51.15,70.42L56.35,60.83L59.7,54.93L64.88,48.29L68.49,42.39L71.22,40.17L73.51,39.43L76.78,35.74L80.08,33.53L86.3,30.58L88.72,28.37L91.15,28.37L95.6,24.68L98.08,23.94L103.03,24.68L107.1,41.65L108.8,51.98L112.73,68.95L116.05,74.85L119.48,87.39L121.44,91.82L125.91,95.51L128.47,94.04L133.47,88.13L136.75,91.08L139.9,108.05L142.04,115.43L144.43,116.17L146.06,113.96L149.8,105.84L152.34,95.51L153.67,89.61L155.74,84.44L164.15,62.31L167.87,57.14L169.81,67.47L172.53,101.41L175.57,133.14L177.13,144.21L179.81,158.97L181.18,161.92L182.77,165.61L184.13,161.92L192.29,113.22L193.71,108.79L195.56,130.19L197.08,135.35L199.09,169.3L199.82,173.72L201.44,183.32L201.91,184.79L202.81,186.27L203.27,185.53L205.82,172.25L206.91,167.82L209.44,146.42L210.72,149.37L213.9,162.66L214.78,163.39L216.15,161.92L217.28,157.49L221.48,127.98L222.43,127.98L223.32,133.14L224.65,146.42L226.63,158.23L228.18,160.44L229.1,161.18L230.68,158.97L232.26,149.37L233.05,142.73L235.54,127.24L236.84,118.38L242.64,90.35L245.41,83.71L249.2,71.16L253.44,68.21L255.93,56.4L258.04,53.45L261.53,48.29L264.63,45.34L271.07,36.48L273.42,35.01L277.21,32.79L280.1,29.84L291.92,23.2L295.43,21.73L297.46,20.25L299.98,20.25L305.14,15.82L310.88,14.35L316.65,12.13L319.28,12.13L324.54,31.32L328.01,68.21L330.08,84.44L331.29,101.41L334.88,138.31L336.54,148.64L341.1,171.51L342.22,172.99L342.72,172.25L343.25,169.3L345.32,153.8L347.65,137.57L348.76,133.88L351.86,109.53L360.59,78.54L362.46,72.64L364.74,70.42L366.76,61.57L370.96,54.19L373.09,52.72L379.74,91.82L383.74,99.2L384.99,98.46L386.25,96.25L387.53,94.04L389.58,85.92L393.49,78.54L395.29,78.54L397.63,66.73L399.62,63.05L406.27,53.45L411.01,50.5L418.09,43.12L422.66,39.43L424.91,42.39L426.91,63.05L428.5,63.05L429.87,85.18L432.9,105.1L434.77,115.43L435.83,116.91L437.33,122.81L438.55,124.29L439.73,127.98L441.12,130.19L442.77,127.98L453.59,85.92L454.98,83.71L457.94,74.85L460.98,70.42L462.31,88.87L463.89,96.25L466.5,132.4L467.51,141.26L469.6,161.18L470.32,164.87L472.18,175.2L472.85,177.41L474.53,172.99L475.07,169.3L476.58,159.7L477.31,149.37L479.47,136.09L481.54,139.78L484.52,155.28L485.95,158.97L486.74,159.7L487.54,158.23L489.15,150.85L490.16,142L494.81,111.01L495.96,107.32L502.76,80.02L505.02,71.9L506.55,68.95L509.37,61.57L515.29,49.76L517.05,46.81L523.46,37.22L526.78,32.79L529.18,30.58L532.07,29.84L535.53,24.68L539.04,21.73\" style=\"vector-effect: none; fill: none; stroke: rgb(218, 41, 28); stroke-opacity: 1; stroke-width: 2px; opacity: 1;\"/></g><g class=\"points\"/><g class=\"text\"/></g></g></g></g><path class=\"xlines-above crisp\" d=\"M0,0\" style=\"fill: none;\"/><path class=\"ylines-above crisp\" d=\"M0,0\" style=\"fill: none;\"/><g class=\"overlines-above\"/><g class=\"xaxislayer-above\"/><g class=\"yaxislayer-above\"><g class=\"ytick\"><text text-anchor=\"end\" x=\"79\" y=\"4.199999999999999\" transform=\"translate(0,285.53)\" style=\"font-family: 'Open Sans', verdana, arial, sans-serif; font-size: 12px; fill: rgb(242, 245, 250); fill-opacity: 1; white-space: pre; opacity: 1;\">50</text></g><g class=\"ytick\"><text text-anchor=\"end\" x=\"79\" y=\"4.199999999999999\" style=\"font-family: 'Open Sans', verdana, arial, sans-serif; font-size: 12px; fill: rgb(242, 245, 250); fill-opacity: 1; white-space: pre; opacity: 1;\" transform=\"translate(0,248.64)\">100</text></g><g class=\"ytick\"><text text-anchor=\"end\" x=\"79\" y=\"4.199999999999999\" style=\"font-family: 'Open Sans', verdana, arial, sans-serif; font-size: 12px; fill: rgb(242, 245, 250); fill-opacity: 1; white-space: pre; opacity: 1;\" transform=\"translate(0,211.74)\">150</text></g><g class=\"ytick\"><text text-anchor=\"end\" x=\"79\" y=\"4.199999999999999\" style=\"font-family: 'Open Sans', verdana, arial, sans-serif; font-size: 12px; fill: rgb(242, 245, 250); fill-opacity: 1; white-space: pre; opacity: 1;\" transform=\"translate(0,174.85)\">200</text></g><g class=\"ytick\"><text text-anchor=\"end\" x=\"79\" y=\"4.199999999999999\" style=\"font-family: 'Open Sans', verdana, arial, sans-serif; font-size: 12px; fill: rgb(242, 245, 250); fill-opacity: 1; white-space: pre; opacity: 1;\" transform=\"translate(0,137.96)\">250</text></g><g class=\"ytick\"><text text-anchor=\"end\" x=\"79\" y=\"4.199999999999999\" style=\"font-family: 'Open Sans', verdana, arial, sans-serif; font-size: 12px; fill: rgb(242, 245, 250); fill-opacity: 1; white-space: pre; opacity: 1;\" transform=\"translate(0,101.07)\">300</text></g></g><g class=\"overaxes-above\"/></g><g class=\"subplot x2y2\"><g class=\"layer-subplot\"><g class=\"shapelayer\"/><g class=\"imagelayer\"/></g><g class=\"minor-gridlayer\"><g class=\"x2\"/><g class=\"y2\"/></g><g class=\"gridlayer\"><g class=\"x2\"><path class=\"x2grid crisp\" transform=\"translate(161.95,0)\" d=\"M0,310.79999999999995v198.4\" style=\"stroke: rgb(40, 52, 66); stroke-opacity: 1; stroke-width: 1px;\"/><path class=\"x2grid crisp\" transform=\"translate(245,0)\" d=\"M0,310.79999999999995v198.4\" style=\"stroke: rgb(40, 52, 66); stroke-opacity: 1; stroke-width: 1px;\"/><path class=\"x2grid crisp\" transform=\"translate(328.05,0)\" d=\"M0,310.79999999999995v198.4\" style=\"stroke: rgb(40, 52, 66); stroke-opacity: 1; stroke-width: 1px;\"/><path class=\"x2grid crisp\" transform=\"translate(411.09,0)\" d=\"M0,310.79999999999995v198.4\" style=\"stroke: rgb(40, 52, 66); stroke-opacity: 1; stroke-width: 1px;\"/><path class=\"x2grid crisp\" transform=\"translate(494.14,0)\" d=\"M0,310.79999999999995v198.4\" style=\"stroke: rgb(40, 52, 66); stroke-opacity: 1; stroke-width: 1px;\"/><path class=\"x2grid crisp\" transform=\"translate(577.19,0)\" d=\"M0,310.79999999999995v198.4\" style=\"stroke: rgb(40, 52, 66); stroke-opacity: 1; stroke-width: 1px;\"/></g><g class=\"y2\"><path class=\"y2grid crisp\" transform=\"translate(0,463.56999999999994)\" d=\"M80,0h540\" style=\"stroke: rgb(40, 52, 66); stroke-opacity: 1; stroke-width: 1px;\"/><path class=\"y2grid crisp\" transform=\"translate(0,427.85999999999996)\" d=\"M80,0h540\" style=\"stroke: rgb(40, 52, 66); stroke-opacity: 1; stroke-width: 1px;\"/><path class=\"y2grid crisp\" transform=\"translate(0,392.14)\" d=\"M80,0h540\" style=\"stroke: rgb(40, 52, 66); stroke-opacity: 1; stroke-width: 1px;\"/><path class=\"y2grid crisp\" transform=\"translate(0,356.42999999999995)\" d=\"M80,0h540\" style=\"stroke: rgb(40, 52, 66); stroke-opacity: 1; stroke-width: 1px;\"/><path class=\"y2grid crisp\" transform=\"translate(0,320.71999999999997)\" d=\"M80,0h540\" style=\"stroke: rgb(40, 52, 66); stroke-opacity: 1; stroke-width: 1px;\"/></g></g><g class=\"zerolinelayer\"><path class=\"y2zl zl crisp\" transform=\"translate(0,499.28)\" d=\"M80,0h540\" style=\"stroke: rgb(40, 52, 66); stroke-opacity: 1; stroke-width: 2px;\"/></g><g class=\"layer-between\"><g class=\"shapelayer\"/><g class=\"imagelayer\"/></g><path class=\"xlines-below\"/><path class=\"ylines-below\"/><g class=\"overlines-below\"/><g class=\"xaxislayer-below\"/><g class=\"yaxislayer-below\"/><g class=\"overaxes-below\"/><g class=\"overplot\"><g class=\"x2y2\" transform=\"translate(80,310.79999999999995)\" clip-path=\"url(#clip2511ffx2y2plot)\"><g class=\"scatterlayer mlayer\"><g class=\"trace scatter trace4cb58f\" style=\"stroke-miterlimit: 2; opacity: 1;\"><g class=\"fills\"/><g class=\"errorbars\"/><g class=\"lines\"><path class=\"js-line\" d=\"M0,9.92L10.53,9.92L12.66,188.48L28.18,188.48L29.64,184.91L31.42,165.27L32.41,125.98L33.45,122.41L35.26,9.92L100.34,9.92L102.35,97.41L105.67,188.48L109.66,188.48L117.58,188.48L121.25,181.34L122.87,172.41L126.18,136.7L128.85,86.7L130.35,83.13L134.09,79.56L135.66,79.56L137.54,188.48L138.99,188.48L141.72,188.48L143.05,145.63L145.93,56.35L148.13,34.92L152.09,9.92L153.37,9.92L164.3,9.92L166.72,118.84L168.72,188.48L170.54,188.48L181.73,188.48L182.47,183.12L184.32,142.05L185.08,131.34L186.91,74.2L188.05,52.77L189.09,9.92L190.24,9.92L191.8,9.92L193.68,188.48L202.61,188.48L203.24,172.41L206.86,86.7L207.48,58.13L208.35,63.49L209.48,188.48L213.42,188.48L214.01,170.62L219.53,43.85L221.35,122.41L223.33,188.48L224.33,188.48L227.71,188.48L229.12,175.98L231.25,90.27L233.44,34.92L235.41,9.92L236.98,9.92L318.54,9.92L323.92,188.48L341.49,188.48L342.24,172.41L344.55,95.63L345.17,74.2L346.46,25.99L347.98,9.92L370.18,9.92L375.32,188.48L380.73,188.48L384.18,134.91L385.41,102.77L386.64,43.85L389.23,9.92L390.89,9.92L424.26,9.92L428.1,188.48L436.69,188.48L439.13,186.69L445.9,9.92L448.31,9.92L458.45,9.92L461.04,188.48L471.71,188.48L472.92,186.69L474.12,149.2L474.74,127.77L476.55,72.42L477.39,59.92L478.99,20.63L480.1,13.49L482.38,188.48L483.14,188.48L485.52,188.48L486.47,147.41L487.1,147.41L487.9,120.63L489.3,99.2L490.24,36.7L491.57,9.92L493.73,9.92L540,9.92\" style=\"vector-effect: none; fill: none; stroke: rgb(6, 0, 239); stroke-opacity: 1; stroke-width: 2px; opacity: 1;\"/></g><g class=\"points\"/><g class=\"text\"/></g><g class=\"trace scatter trace1a48d4\" style=\"stroke-miterlimit: 2; opacity: 1;\"><g class=\"fills\"/><g class=\"errorbars\"/><g class=\"lines\"><path class=\"js-line\" d=\"M0.56,9.92L7.33,9.92L10.49,11.71L15.38,86.7L17.14,186.69L23.43,186.69L24.94,188.48L28.38,183.12L29.58,127.77L31.61,120.63L33.93,63.49L35.32,9.92L37.11,9.92L39.7,11.71L40.85,9.92L76.78,9.92L80.08,11.71L83.42,9.92L86.3,11.71L88.72,11.71L91.15,9.92L95.6,9.92L98.08,11.71L103.03,59.92L107.1,183.12L108.8,179.55L110.81,177.77L112.73,175.98L116.05,158.12L117.79,143.84L119.48,172.41L121.44,138.48L123.69,77.77L125.91,63.49L128.47,63.49L131.45,54.56L133.47,52.77L136.75,183.12L139.9,175.98L142.04,168.84L144.43,83.13L148.63,43.85L149.8,11.71L152.34,9.92L153.67,9.92L155.74,9.92L164.15,11.71L167.87,9.92L169.81,188.48L175.57,188.48L177.13,186.69L179.02,188.48L179.81,188.48L181.77,188.48L182.77,140.27L185.3,75.99L187.28,49.2L189.83,11.71L192.29,11.71L193.71,186.69L195.56,188.48L201.91,188.48L202.81,156.34L205.82,93.84L206.91,79.56L208.3,58.13L209.44,113.48L211.41,188.48L213,188.48L213.9,188.48L214.78,147.41L217.28,77.77L218.39,63.49L220.3,13.49L221.48,9.92L222.43,170.62L223.32,188.48L225.83,188.48L226.63,181.34L228.18,188.48L229.1,174.2L231.52,77.77L232.26,61.7L234.34,36.7L235.54,11.71L241.32,11.71L242.64,9.92L245.41,11.71L249.2,9.92L291.92,9.92L295.43,11.71L297.46,9.92L299.98,11.71L305.14,11.71L310.88,9.92L316.65,9.92L319.28,11.71L324.54,174.2L328.01,188.48L341.1,188.48L342.22,142.05L343.25,106.34L344.63,68.84L347.65,25.99L348.76,11.71L356.27,11.71L360.59,9.92L373.09,9.92L377.13,184.91L379.74,177.77L383.74,58.13L384.99,61.7L386.25,43.85L387.53,11.71L389.58,11.71L403.31,11.71L406.27,9.92L411.01,11.71L413.62,11.71L415.84,11.71L418.09,9.92L422.66,11.71L424.91,15.28L426.91,188.48L428.5,188.48L434.77,188.48L435.83,184.91L437.33,158.12L438.55,175.98L445.37,11.71L448.62,11.71L457.94,11.71L460.98,183.12L462.31,188.48L463.89,188.48L472.18,188.48L472.85,145.63L475.07,95.63L475.95,68.84L477.31,58.13L479.47,11.71L481.54,188.48L483.18,188.48L484.52,188.48L485.95,184.91L489.15,59.92L490.16,56.35L492.3,9.92L494.81,9.92L511.43,9.92L513.13,11.71L515.29,9.92L517.05,9.92L539.04,9.92\" style=\"vector-effect: none; fill: none; stroke: rgb(218, 41, 28); stroke-opacity: 1; stroke-width: 2px; opacity: 1;\"/></g><g class=\"points\"/><g class=\"text\"/></g></g></g></g><path class=\"xlines-above crisp\" d=\"M0,0\" style=\"fill: none;\"/><path class=\"ylines-above crisp\" d=\"M0,0\" style=\"fill: none;\"/><g class=\"overlines-above\"/><g class=\"xaxislayer-above\"/><g class=\"yaxislayer-above\"><g class=\"y2tick\"><text text-anchor=\"end\" x=\"79\" y=\"4.199999999999999\" transform=\"translate(0,499.28)\" style=\"font-family: 'Open Sans', verdana, arial, sans-serif; font-size: 12px; fill: rgb(242, 245, 250); fill-opacity: 1; white-space: pre; opacity: 1;\">0</text></g><g class=\"y2tick\"><text text-anchor=\"end\" x=\"79\" y=\"4.199999999999999\" style=\"font-family: 'Open Sans', verdana, arial, sans-serif; font-size: 12px; fill: rgb(242, 245, 250); fill-opacity: 1; white-space: pre; opacity: 1;\" transform=\"translate(0,463.56999999999994)\">20</text></g><g class=\"y2tick\"><text text-anchor=\"end\" x=\"79\" y=\"4.199999999999999\" style=\"font-family: 'Open Sans', verdana, arial, sans-serif; font-size: 12px; fill: rgb(242, 245, 250); fill-opacity: 1; white-space: pre; opacity: 1;\" transform=\"translate(0,427.85999999999996)\">40</text></g><g class=\"y2tick\"><text text-anchor=\"end\" x=\"79\" y=\"4.199999999999999\" style=\"font-family: 'Open Sans', verdana, arial, sans-serif; font-size: 12px; fill: rgb(242, 245, 250); fill-opacity: 1; white-space: pre; opacity: 1;\" transform=\"translate(0,392.14)\">60</text></g><g class=\"y2tick\"><text text-anchor=\"end\" x=\"79\" y=\"4.199999999999999\" style=\"font-family: 'Open Sans', verdana, arial, sans-serif; font-size: 12px; fill: rgb(242, 245, 250); fill-opacity: 1; white-space: pre; opacity: 1;\" transform=\"translate(0,356.42999999999995)\">80</text></g><g class=\"y2tick\"><text text-anchor=\"end\" x=\"79\" y=\"4.199999999999999\" style=\"font-family: 'Open Sans', verdana, arial, sans-serif; font-size: 12px; fill: rgb(242, 245, 250); fill-opacity: 1; white-space: pre; opacity: 1;\" transform=\"translate(0,320.71999999999997)\">100</text></g></g><g class=\"overaxes-above\"/></g><g class=\"subplot x3y3\"><g class=\"layer-subplot\"><g class=\"shapelayer\"/><g class=\"imagelayer\"/></g><g class=\"minor-gridlayer\"><g class=\"x3\"/><g class=\"y3\"/></g><g class=\"gridlayer\"><g class=\"x3\"><path class=\"x3grid crisp\" transform=\"translate(161.95,0)\" d=\"M0,521.5999999999999v198.4\" style=\"stroke: rgb(40, 52, 66); stroke-opacity: 1; stroke-width: 1px;\"/><path class=\"x3grid crisp\" transform=\"translate(245,0)\" d=\"M0,521.5999999999999v198.4\" style=\"stroke: rgb(40, 52, 66); stroke-opacity: 1; stroke-width: 1px;\"/><path class=\"x3grid crisp\" transform=\"translate(328.05,0)\" d=\"M0,521.5999999999999v198.4\" style=\"stroke: rgb(40, 52, 66); stroke-opacity: 1; stroke-width: 1px;\"/><path class=\"x3grid crisp\" transform=\"translate(411.09,0)\" d=\"M0,521.5999999999999v198.4\" style=\"stroke: rgb(40, 52, 66); stroke-opacity: 1; stroke-width: 1px;\"/><path class=\"x3grid crisp\" transform=\"translate(494.14,0)\" d=\"M0,521.5999999999999v198.4\" style=\"stroke: rgb(40, 52, 66); stroke-opacity: 1; stroke-width: 1px;\"/><path class=\"x3grid crisp\" transform=\"translate(577.19,0)\" d=\"M0,521.5999999999999v198.4\" style=\"stroke: rgb(40, 52, 66); stroke-opacity: 1; stroke-width: 1px;\"/></g><g class=\"y3\"><path class=\"y3grid crisp\" transform=\"translate(0,710.0799999999999)\" d=\"M80,0h540\" style=\"stroke: rgb(40, 52, 66); stroke-opacity: 1; stroke-width: 1px;\"/><path class=\"y3grid crisp\" transform=\"translate(0,531.5199999999999)\" d=\"M80,0h540\" style=\"stroke: rgb(40, 52, 66); stroke-opacity: 1; stroke-width: 1px;\"/></g></g><g class=\"zerolinelayer\"/><g class=\"layer-between\"><g class=\"shapelayer\"/><g class=\"imagelayer\"/></g><path class=\"xlines-below\"/><path class=\"ylines-below\"/><g class=\"overlines-below\"/><g class=\"xaxislayer-below\"/><g class=\"yaxislayer-below\"/><g class=\"overaxes-below\"/><g class=\"overplot\"><g class=\"x3y3\" transform=\"translate(80,521.5999999999999)\" clip-path=\"url(#clip2511ffx3y3plot)\"><g class=\"scatterlayer mlayer\"><g class=\"trace scatter traced1174a\" style=\"stroke-miterlimit: 2; opacity: 1;\"><g class=\"fills\"/><g class=\"errorbars\"/><g class=\"lines\"><path class=\"js-line\" d=\"M0,188.48L10.53,188.48L12.66,9.92L26.45,9.92L28.18,188.48L102.35,188.48L105.67,9.92L117.58,9.92L121.25,188.48L135.66,188.48L137.54,9.92L138.99,9.92L141.72,188.48L164.3,188.48L166.72,9.92L181.73,9.92L182.47,188.48L191.8,188.48L193.68,9.92L200.99,9.92L201.78,188.48L208.35,188.48L209.48,9.92L212.5,9.92L213.42,188.48L221.35,188.48L223.33,9.92L227.71,9.92L229.12,188.48L318.54,188.48L323.92,9.92L340.68,9.92L341.49,188.48L370.18,188.48L375.32,9.92L380.73,9.92L384.18,188.48L421.52,188.48L424.26,9.92L436.69,9.92L439.13,188.48L461.04,188.48L464.02,9.92L471.71,9.92L472.92,188.48L480.1,188.48L482.38,9.92L484.38,9.92L485.52,188.48L540,188.48\" style=\"vector-effect: none; fill: none; stroke: rgb(6, 0, 239); stroke-opacity: 1; stroke-width: 2px; opacity: 1;\"/></g><g class=\"points\"/><g class=\"text\"/></g><g class=\"trace scatter trace2f093b\" style=\"stroke-miterlimit: 2; opacity: 1;\"><g class=\"fills\"/><g class=\"errorbars\"/><g class=\"lines\"><path class=\"js-line\" d=\"M0.56,188.48L10.49,188.48L15.38,9.92L26.33,9.92L28.38,188.48L98.08,188.48L103.03,9.92L112.73,9.92L116.05,188.48L117.79,9.92L119.48,188.48L133.47,188.48L136.75,9.92L139.9,9.92L142.04,188.48L164.15,188.48L167.87,9.92L178.19,9.92L179.02,188.48L179.81,9.92L181.18,188.48L189.83,188.48L192.29,9.92L201.05,9.92L201.44,188.48L208.3,188.48L209.44,9.92L213,9.92L213.9,188.48L220.3,188.48L221.48,9.92L224.65,9.92L225.83,188.48L226.63,9.92L228.18,188.48L319.28,188.48L324.54,9.92L340.21,9.92L341.1,188.48L373.09,188.48L377.13,9.92L379.74,9.92L383.74,188.48L422.66,188.48L424.91,9.92L434.77,9.92L435.83,188.48L437.33,188.48L438.55,9.92L439.73,188.48L441.12,188.48L457.94,188.48L460.98,9.92L471.59,9.92L472.18,188.48L479.47,188.48L481.54,9.92L483.18,188.48L484.52,188.48L539.04,188.48\" style=\"vector-effect: none; fill: none; stroke: rgb(218, 41, 28); stroke-opacity: 1; stroke-width: 2px; opacity: 1;\"/></g><g class=\"points\"/><g class=\"text\"/></g></g></g></g><path class=\"xlines-above crisp\" d=\"M0,0\" style=\"fill: none;\"/><path class=\"ylines-above crisp\" d=\"M0,0\" style=\"fill: none;\"/><g class=\"overlines-above\"/><g class=\"xaxislayer-above\"><g class=\"x3tick\"><text text-anchor=\"middle\" x=\"0\" y=\"732.9999999999999\" transform=\"translate(161.95,0)\" style=\"font-family: 'Open Sans', verdana, arial, sans-serif; font-size: 12px; fill: rgb(242, 245, 250); fill-opacity: 1; white-space: pre; opacity: 1;\">500</text></g><g class=\"x3tick\"><text text-anchor=\"middle\" x=\"0\" y=\"732.9999999999999\" style=\"font-family: 'Open Sans', verdana, arial, sans-serif; font-size: 12px; fill: rgb(242, 245, 250); fill-opacity: 1; white-space: pre; opacity: 1;\" transform=\"translate(245,0)\">1000</text></g><g class=\"x3tick\"><text text-anchor=\"middle\" x=\"0\" y=\"732.9999999999999\" style=\"font-family: 'Open Sans', verdana, arial, sans-serif; font-size: 12px; fill: rgb(242, 245, 250); fill-opacity: 1; white-space: pre; opacity: 1;\" transform=\"translate(328.05,0)\">1500</text></g><g class=\"x3tick\"><text text-anchor=\"middle\" x=\"0\" y=\"732.9999999999999\" style=\"font-family: 'Open Sans', verdana, arial, sans-serif; font-size: 12px; fill: rgb(242, 245, 250); fill-opacity: 1; white-space: pre; opacity: 1;\" transform=\"translate(411.09,0)\">2000</text></g><g class=\"x3tick\"><text text-anchor=\"middle\" x=\"0\" y=\"732.9999999999999\" style=\"font-family: 'Open Sans', verdana, arial, sans-serif; font-size: 12px; fill: rgb(242, 245, 250); fill-opacity: 1; white-space: pre; opacity: 1;\" transform=\"translate(494.14,0)\">2500</text></g><g class=\"x3tick\"><text text-anchor=\"middle\" x=\"0\" y=\"732.9999999999999\" style=\"font-family: 'Open Sans', verdana, arial, sans-serif; font-size: 12px; fill: rgb(242, 245, 250); fill-opacity: 1; white-space: pre; opacity: 1;\" transform=\"translate(577.19,0)\">3000</text></g></g><g class=\"yaxislayer-above\"><g class=\"y3tick\"><text text-anchor=\"end\" x=\"79\" y=\"4.199999999999999\" transform=\"translate(0,710.0799999999999)\" style=\"font-family: 'Open Sans', verdana, arial, sans-serif; font-size: 12px; fill: rgb(242, 245, 250); fill-opacity: 1; white-space: pre; opacity: 1;\">false</text></g><g class=\"y3tick\"><text text-anchor=\"end\" x=\"79\" y=\"4.199999999999999\" transform=\"translate(0,531.5199999999999)\" style=\"font-family: 'Open Sans', verdana, arial, sans-serif; font-size: 12px; fill: rgb(242, 245, 250); fill-opacity: 1; white-space: pre; opacity: 1;\">true</text></g></g><g class=\"overaxes-above\"/></g></g><g class=\"polarlayer\"/><g class=\"smithlayer\"/><g class=\"ternarylayer\"/><g class=\"geolayer\"/><g class=\"funnelarealayer\"/><g class=\"pielayer\"/><g class=\"iciclelayer\"/><g class=\"treemaplayer\"/><g class=\"sunburstlayer\"/><g class=\"glimages\"/><defs id=\"topdefs-2511ff\"><g class=\"clips\"/></defs><g class=\"layer-above\"><g class=\"imagelayer\"/><g class=\"shapelayer\"/></g><g class=\"infolayer\"><g class=\"g-gtitle\"><text class=\"gtitle\" x=\"35\" y=\"50\" text-anchor=\"start\" dy=\"0em\" style=\"opacity: 1; font-family: 'Open Sans', verdana, arial, sans-serif; font-size: 17px; fill: rgb(242, 245, 250); fill-opacity: 1; white-space: pre;\"><tspan class=\"line\" dy=\"0em\" x=\"35\" y=\"50\">2022-05-29 | Monaco Grand Prix - Qualifying</tspan><tspan class=\"line\" dy=\"1.3em\" x=\"35\" y=\"50\">Max Verstappen vs Charles Leclerc Telemetry</tspan></text></g><g class=\"g-xtitle\"/><g class=\"g-x2title\"/><g class=\"g-x3title\"><text class=\"x3title\" x=\"350\" y=\"759.8\" text-anchor=\"middle\" style=\"opacity: 1; font-family: 'Open Sans', verdana, arial, sans-serif; font-size: 14px; fill: rgb(242, 245, 250); fill-opacity: 1; white-space: pre;\">Distance (m)</text></g><g class=\"g-ytitle\"><text class=\"ytitle\" transform=\"rotate(-90,36.709375,199.2)\" x=\"36.709375\" y=\"199.2\" text-anchor=\"middle\" style=\"opacity: 1; font-family: 'Open Sans', verdana, arial, sans-serif; font-size: 14px; fill: rgb(242, 245, 250); fill-opacity: 1; white-space: pre;\">Speed (km/h)</text></g><g class=\"g-y2title\"><text class=\"y2title\" transform=\"rotate(-90,36.709375,409.99999999999994)\" x=\"36.709375\" y=\"409.99999999999994\" text-anchor=\"middle\" style=\"opacity: 1; font-family: 'Open Sans', verdana, arial, sans-serif; font-size: 14px; fill: rgb(242, 245, 250); fill-opacity: 1; white-space: pre;\">Throttle (%)</text></g><g class=\"g-y3title\"><text class=\"y3title\" transform=\"rotate(-90,31.475,620.8)\" x=\"31.475\" y=\"620.8\" text-anchor=\"middle\" style=\"opacity: 1; font-family: 'Open Sans', verdana, arial, sans-serif; font-size: 14px; fill: rgb(242, 245, 250); fill-opacity: 1; white-space: pre;\">Brake (on/off)</text></g></g></svg>"
      ]
     },
     "metadata": {},
     "output_type": "display_data"
    }
   ],
   "source": [
    "import sys\n",
    "sys.path.append(\"..\")\n",
    "from src.visualization import plot_telemetry\n",
    "\n",
    "plot_telemetry(\n",
    "    driver_1=\"VER\",\n",
    "    driver_2=\"LEC\",\n",
    "    session=session,\n",
    ")"
   ]
  },
  {
   "cell_type": "markdown",
   "id": "7136fc39",
   "metadata": {},
   "source": [
    "The full code can be found the the github [repository](https://github.com/meszdav/f1-playground)"
   ]
  },
  {
   "cell_type": "code",
   "execution_count": null,
   "id": "cb6441c9",
   "metadata": {},
   "outputs": [],
   "source": []
  },
  {
   "cell_type": "code",
   "execution_count": null,
   "id": "551fdfc6",
   "metadata": {},
   "outputs": [],
   "source": []
  },
  {
   "cell_type": "code",
   "execution_count": null,
   "id": "5d1823ad",
   "metadata": {},
   "outputs": [],
   "source": []
  },
  {
   "cell_type": "markdown",
   "metadata": {},
   "source": [
    "## Visualization\n",
    "\n",
    "The first thing was to develop some functions to visualize the "
   ]
  },
  {
   "cell_type": "markdown",
   "id": "1b78d567",
   "metadata": {},
   "source": [
    "![demo](resources/screen_recording_0.gif)"
   ]
  },
  {
   "cell_type": "markdown",
   "id": "f2ceb7ea",
   "metadata": {},
   "source": []
  }
 ],
 "metadata": {
  "kernelspec": {
   "display_name": ".venv",
   "language": "python",
   "name": "python3"
  },
  "language_info": {
   "codemirror_mode": {
    "name": "ipython",
    "version": 3
   },
   "file_extension": ".py",
   "mimetype": "text/x-python",
   "name": "python",
   "nbconvert_exporter": "python",
   "pygments_lexer": "ipython3",
   "version": "3.13.1"
  }
 },
 "nbformat": 4,
 "nbformat_minor": 5
}
