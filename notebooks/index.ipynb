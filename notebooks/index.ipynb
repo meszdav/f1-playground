{
 "cells": [
  {
   "cell_type": "markdown",
   "metadata": {},
   "source": [
    "# 🤟 LLM-s for F1 Telemetry Data 🏎️"
   ]
  },
  {
   "cell_type": "markdown",
   "metadata": {},
   "source": [
    "Disclaimer:\n",
    "> This is my first LLM project, where I wanted to learn and explore the basics of LLMs. My strategy to learn is to build > small projects which can showcase the features of the newest and hottest tools. "
   ]
  },
  {
   "cell_type": "markdown",
   "metadata": {},
   "source": [
    "## Project Idea\n",
    "\n",
    "The idea was fairly simple: I want to build a dashboard where the user can use natural language to get the telemetry data from two racers from a given event. The telemetry data is a time series data which is showing the speed, throttle, brake of the car. \n",
    "One of my most important criteria, that I want to use real data, and not some data generated or halucinated by the LLM. For this reason my strategy is to develop some custom tools which can be used to collect the publicly available telemetry data.\n",
    "\n",
    "You can might ask the question, how is this better than just using some conventional dropdowns or radio buttons to filter the data. This is a good question, which I asked myself too 😀 Considering that the user uses natural language the definition of the prompt can be implicit like give me the `first` and the `fourth` best racer from a grand prix. The LLM can use some tools to find these drivers and then fetch the results. Or you can describe an event just by a country or city without specifying the event exactly. This gives the user much more flexibility and make the dashboard much more natural than just using dozens of buttons and dropdowns. But anyway the goal of the project to learn something new. "
   ]
  },
  {
   "cell_type": "markdown",
   "metadata": {},
   "source": [
    "## Telemetry data\n",
    "\n",
    "The first thing was to get telemetry data. For this I used the fastf1 python library, which makes it simple to download telemetry data. First thing is to load a session, where only the year, event name and the session type need to be specified. "
   ]
  },
  {
   "cell_type": "code",
   "execution_count": 3,
   "id": "b9c78bea",
   "metadata": {},
   "outputs": [],
   "source": [
    "import fastf1\n",
    "from fastf1 import logger\n",
    "\n",
    "logger.set_log_level(\"ERROR\")\n",
    "\n",
    "session = fastf1.get_session(2022, \"Monaco Grand Prix\", \"Qualifying\")\n",
    "session.load()"
   ]
  },
  {
   "cell_type": "markdown",
   "id": "2231291e",
   "metadata": {},
   "source": [
    "After loading the session we can use all available data like lap times, results, telemetry data, etc.\n",
    "\n",
    "The session object than can be used to retrieve telemetry data for specific drivers and laps.\n"
   ]
  },
  {
   "cell_type": "code",
   "execution_count": 9,
   "id": "63e188e6",
   "metadata": {},
   "outputs": [
    {
     "data": {
      "text/html": [
       "<div>\n",
       "<style scoped>\n",
       "    .dataframe tbody tr th:only-of-type {\n",
       "        vertical-align: middle;\n",
       "    }\n",
       "\n",
       "    .dataframe tbody tr th {\n",
       "        vertical-align: top;\n",
       "    }\n",
       "\n",
       "    .dataframe thead th {\n",
       "        text-align: right;\n",
       "    }\n",
       "</style>\n",
       "<table border=\"1\" class=\"dataframe\">\n",
       "  <thead>\n",
       "    <tr style=\"text-align: right;\">\n",
       "      <th></th>\n",
       "      <th>Date</th>\n",
       "      <th>RPM</th>\n",
       "      <th>Speed</th>\n",
       "      <th>nGear</th>\n",
       "      <th>Throttle</th>\n",
       "      <th>Brake</th>\n",
       "      <th>DRS</th>\n",
       "      <th>Source</th>\n",
       "      <th>Time</th>\n",
       "      <th>SessionTime</th>\n",
       "      <th>Distance</th>\n",
       "    </tr>\n",
       "  </thead>\n",
       "  <tbody>\n",
       "    <tr>\n",
       "      <th>0</th>\n",
       "      <td>2022-05-28 14:55:07.386</td>\n",
       "      <td>11096.0</td>\n",
       "      <td>279.0</td>\n",
       "      <td>7</td>\n",
       "      <td>100.0</td>\n",
       "      <td>False</td>\n",
       "      <td>12</td>\n",
       "      <td>car</td>\n",
       "      <td>0 days 00:00:00.085000</td>\n",
       "      <td>0 days 01:10:06.992000</td>\n",
       "      <td>6.587500</td>\n",
       "    </tr>\n",
       "    <tr>\n",
       "      <th>1</th>\n",
       "      <td>2022-05-28 14:55:07.586</td>\n",
       "      <td>11190.0</td>\n",
       "      <td>282.0</td>\n",
       "      <td>7</td>\n",
       "      <td>100.0</td>\n",
       "      <td>False</td>\n",
       "      <td>12</td>\n",
       "      <td>car</td>\n",
       "      <td>0 days 00:00:00.285000</td>\n",
       "      <td>0 days 01:10:07.192000</td>\n",
       "      <td>22.254167</td>\n",
       "    </tr>\n",
       "  </tbody>\n",
       "</table>\n",
       "</div>"
      ],
      "text/plain": [
       "                     Date      RPM  Speed  nGear  Throttle  Brake  DRS Source  \\\n",
       "0 2022-05-28 14:55:07.386  11096.0  279.0      7     100.0  False   12    car   \n",
       "1 2022-05-28 14:55:07.586  11190.0  282.0      7     100.0  False   12    car   \n",
       "\n",
       "                    Time            SessionTime   Distance  \n",
       "0 0 days 00:00:00.085000 0 days 01:10:06.992000   6.587500  \n",
       "1 0 days 00:00:00.285000 0 days 01:10:07.192000  22.254167  "
      ]
     },
     "execution_count": 9,
     "metadata": {},
     "output_type": "execute_result"
    }
   ],
   "source": [
    "fastest_lap = session.laps.pick_drivers(\"VER\").pick_fastest()\n",
    "# add distance to the data\n",
    "telemetry_data = fastest_lap.get_car_data().add_distance()\n",
    "telemetry_data.head(2)"
   ]
  },
  {
   "cell_type": "markdown",
   "id": "349371a7",
   "metadata": {},
   "source": [
    "This gives a pandas dataframe whith all the required information to plot the telemetry data."
   ]
  },
  {
   "cell_type": "markdown",
   "id": "a542d986",
   "metadata": {},
   "source": [
    "## Colors\n",
    "\n",
    "Another not that crucial but for me important detail was to be able to plot the data with the colors of the corresponding team color of the given driver. \n",
    "This information can be found with the fastf1 library too."
   ]
  },
  {
   "cell_type": "code",
   "execution_count": null,
   "id": "0531f078",
   "metadata": {},
   "outputs": [
    {
     "data": {
      "text/html": [
       "<div style=\"width: 50px; height: 50px; background-color: #0600ef;\"></div>"
      ],
      "text/plain": [
       "<IPython.core.display.HTML object>"
      ]
     },
     "metadata": {},
     "output_type": "display_data"
    }
   ],
   "source": [
    "from IPython.display import HTML\n",
    "\n",
    "import fastf1.plotting\n",
    "\n",
    "driver = session.get_driver(\"VER\")\n",
    "team = driver[\"TeamName\"]\n",
    "color = fastf1.plotting.get_team_color(team, session=session)\n",
    "\n",
    "# Display the color as a square\n",
    "html_code = f'<div style=\"width: 50px; height: 50px; background-color: {color};\"></div>'\n",
    "display(HTML(html_code))\n"
   ]
  },
  {
   "cell_type": "markdown",
   "id": "aba5c906",
   "metadata": {},
   "source": [
    "Another detail is that the color in case of comparing a driver with another driver from the same team. In this case one of the drivers color will be inverted. This can be achived by the following code:\n"
   ]
  },
  {
   "cell_type": "code",
   "execution_count": 20,
   "id": "b269c941",
   "metadata": {},
   "outputs": [],
   "source": [
    "def _invert_hex_color(hex_color: str) -> str:\n",
    "    hex_color = hex_color.lstrip(\"#\")\n",
    "    inverted = \"\".join(f\"{255 - int(hex_color[i:i+2], 16):02X}\" for i in (0, 2, 4))\n",
    "    return f\"#{inverted}\""
   ]
  },
  {
   "cell_type": "code",
   "execution_count": 21,
   "id": "3bfa13d6",
   "metadata": {},
   "outputs": [
    {
     "data": {
      "text/html": [
       "\n",
       "<div style=\"display: flex; align-items: center;\">\n",
       "    <div style=\"width: 50px; height: 50px; background-color: #0600ef;\"></div>\n",
       "    <div style=\"margin: 0 10px;\">&#8594;</div>\n",
       "    <div style=\"width: 50px; height: 50px; background-color: #F9FF10;\"></div>\n",
       "</div>\n"
      ],
      "text/plain": [
       "<IPython.core.display.HTML object>"
      ]
     },
     "metadata": {},
     "output_type": "display_data"
    }
   ],
   "source": [
    "# show both colors\n",
    "html_code = f\"\"\"\n",
    "<div style=\"display: flex; align-items: center;\">\n",
    "    <div style=\"width: 50px; height: 50px; background-color: {color};\"></div>\n",
    "    <div style=\"margin: 0 10px;\">&#8594;</div>\n",
    "    <div style=\"width: 50px; height: 50px; background-color: {_invert_hex_color(color)};\"></div>\n",
    "</div>\n",
    "\"\"\"\n",
    "display(HTML(html_code))"
   ]
  },
  {
   "cell_type": "markdown",
   "metadata": {},
   "source": [
    "## Visualization\n",
    "\n",
    "The first thing was to develop some functions to visualize the "
   ]
  },
  {
   "cell_type": "markdown",
   "id": "1b78d567",
   "metadata": {},
   "source": [
    "![demo](resources/screen_recording_0.gif)"
   ]
  },
  {
   "cell_type": "markdown",
   "id": "f2ceb7ea",
   "metadata": {},
   "source": []
  }
 ],
 "metadata": {
  "kernelspec": {
   "display_name": ".venv",
   "language": "python",
   "name": "python3"
  },
  "language_info": {
   "codemirror_mode": {
    "name": "ipython",
    "version": 3
   },
   "file_extension": ".py",
   "mimetype": "text/x-python",
   "name": "python",
   "nbconvert_exporter": "python",
   "pygments_lexer": "ipython3",
   "version": "3.13.1"
  }
 },
 "nbformat": 4,
 "nbformat_minor": 5
}
